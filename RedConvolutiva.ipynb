{
  "nbformat": 4,
  "nbformat_minor": 0,
  "metadata": {
    "colab": {
      "name": "RedConvolutiva.ipynb",
      "version": "0.3.2",
      "provenance": [],
      "include_colab_link": true
    },
    "kernelspec": {
      "name": "python3",
      "display_name": "Python 3"
    },
    "accelerator": "GPU"
  },
  "cells": [
    {
      "cell_type": "markdown",
      "metadata": {
        "id": "view-in-github",
        "colab_type": "text"
      },
      "source": [
        "<a href=\"https://colab.research.google.com/github/6daniel32/RedConvolutiva/blob/master/RedConvolutiva.ipynb\" target=\"_parent\"><img src=\"https://colab.research.google.com/assets/colab-badge.svg\" alt=\"Open In Colab\"/></a>"
      ]
    },
    {
      "cell_type": "markdown",
      "metadata": {
        "id": "cXD8sjjQLj-k",
        "colab_type": "text"
      },
      "source": [
        "# Reconocedor de lengua de signos\n",
        "\n",
        "Vamos a desarrollar una red que reconozca lengua de signos. Para ello, vamos a utilizar un dataset contenido en nuestra cuenta de Google Drive. Antes, debemos montar nuestro sistema de archivos de Google Drive para hacerlo accesible desde este *notebook*. Google nos solicitará permiso, tenemos que copiar y pegar el código que nos suministra.\n",
        "\n",
        "El dataset está en la página de cayetano. Es más eficiente tenerlo en google (ya que colab tambien esta en google), descomprimiendolo dentro de una carpeta en nuestro drive e indiciandole al python donde esta la carpeta.\n",
        "\n",
        "Para poder solucionar el problema de la verificación hay que usar el enlace de abajo para dar permisos a google.\n",
        "\n",
        "Nos da este codigo de autorizacion que debemos incluir en el programa de la red: 4/PgF3jQzaRUfIWY8DHrR-heG9dzoyWaI0NVyoe2yX6FkqqG7xbw9OoxM (probablemente haya que sacarlo de nuevo)"
      ]
    },
    {
      "cell_type": "code",
      "metadata": {
        "id": "yZcKFL_TMkzR",
        "colab_type": "code",
        "colab": {}
      },
      "source": [
        "from google.colab import drive\n",
        "drive.mount('/content/drive')"
      ],
      "execution_count": 0,
      "outputs": []
    },
    {
      "cell_type": "markdown",
      "metadata": {
        "id": "Z_29d5tsNgE4",
        "colab_type": "text"
      },
      "source": [
        "Ahora ya es accesible"
      ]
    },
    {
      "cell_type": "markdown",
      "metadata": {
        "id": "9GJsa2DPRE5C",
        "colab_type": "text"
      },
      "source": [
        "¿Estoy realmente utilizando una GPU? Compruébalo en **Editar / Configuración del cuaderno** o **Entorno de ejecuación / Cambiar tipo de entorno de ejecución**"
      ]
    },
    {
      "cell_type": "code",
      "metadata": {
        "id": "x3JBgGOsKu44",
        "colab_type": "code",
        "outputId": "14c15ad8-e407-4e37-adee-07a509b6e891",
        "colab": {
          "base_uri": "https://localhost:8080/",
          "height": 50
        }
      },
      "source": [
        "!ls \"/content/drive/My Drive/Colab Notebooks/datasets\" #esto hace un ls en la carpeta que dice\n",
        "from matplotlib.pyplot import imshow #matplotlib = libreria grafica de python\n",
        "import numpy as np\n",
        "from PIL import Image\n",
        "\n",
        "%matplotlib inline # el \"%\" implica que la imagen no se abrira en una ventana aparte si no como algo incrustable en el documento web.\n",
        "pil_im = Image.open('/content/drive/My Drive/Colab Notebooks/datasets/Sign-Language/4/IMG_1132.JPG', 'r')\n",
        "imshow(np.asarray(pil_im))\n",
        "\n"
      ],
      "execution_count": 0,
      "outputs": [
        {
          "output_type": "stream",
          "text": [
            "ls: cannot access '/content/drive/My Drive/Colab Notebooks/datasets': No such file or directory\n"
          ],
          "name": "stdout"
        },
        {
          "output_type": "stream",
          "text": [
            "UsageError: unrecognized arguments: # el \"%\" implica que la imagen no se abrira en una ventana aparte si no como algo incrustable en el documento web.\n"
          ],
          "name": "stderr"
        }
      ]
    },
    {
      "cell_type": "code",
      "metadata": {
        "id": "eKjrirLcRIkU",
        "colab_type": "code",
        "outputId": "92928935-efb7-4ac4-9c75-97857518268b",
        "colab": {
          "base_uri": "https://localhost:8080/",
          "height": 34
        }
      },
      "source": [
        "import tensorflow as tf\n",
        "tf.test.gpu_device_name()"
      ],
      "execution_count": 0,
      "outputs": [
        {
          "output_type": "execute_result",
          "data": {
            "text/plain": [
              "'/device:GPU:0'"
            ]
          },
          "metadata": {
            "tags": []
          },
          "execution_count": 3
        }
      ]
    },
    {
      "cell_type": "markdown",
      "metadata": {
        "id": "UCaBgMS8OdiV",
        "colab_type": "text"
      },
      "source": [
        "## Primer modelo"
      ]
    },
    {
      "cell_type": "code",
      "metadata": {
        "id": "KE6j7-r0OgXA",
        "colab_type": "code",
        "colab": {}
      },
      "source": [
        "from keras.preprocessing.image import ImageDataGenerator #fuente de datos\n",
        "from keras.models import Sequential #modelo\n",
        "from keras.layers import Dense, Dropout #entrenamiento\n",
        "from keras.optimizers import RMSprop\n",
        "from keras.layers import Dense, Dropout, Flatten\n",
        "from keras.layers import Conv2D, MaxPooling2D\n",
        "from keras import backend as K\n",
        "import keras\n",
        "from time import time\n",
        "\n",
        "\n",
        "# DATA SOURCE --------------------------------------------------\n",
        "\n",
        "batch_size = 20\n",
        "\n",
        "train_data_dir = '/content/drive/My Drive/Colab Notebooks/datasets/Sign-Language' #definimos dos directorios, uno para training y otro para validación, aquí los dos directorios van al             \n",
        "validation_data_dir = '/content/drive/My Drive/Colab Notebooks/datasets/Sign-Language' #mismo sitio pero esto no debería ser así, debería haber una carpeta para cada cosa.\n",
        "\n",
        "#en inteligencia artificial cuanto más datos mejor, con imágenes no pasa lo contrario (ejemplo con imagen de un pájaro). Una forma de crear más imágenes artificialmente \n",
        "#para entrenar mejor es darle la vuelta a las imágenes horizontalmente, porque un pájaro mirando a la izquierda y un pájaro mirando a la derecha también es un pájaro, \n",
        "#hacer un pequeño zoom, porque un pájaro de cerca y de lejos también es un pájaro, rotar un poquito la imagen sobre el eje central o una combinación de todo esto.\n",
        "\n",
        "train_datagen = ImageDataGenerator( #este código hace lo del párrafo de arriba.\n",
        "        rescale=1./255, #esto solo es para convertir valores entre 0 y 1.\n",
        "        shear_range=0.2,\n",
        "        zoom_range=0.2,\n",
        "        horizontal_flip=True)\n",
        "\n",
        "test_datagen = ImageDataGenerator(rescale=1./255) #aqui solo convertimos valores entre 0 y 1.\n",
        "\n",
        "train_generator = train_datagen.flow_from_directory( #escala las imagenes todas al mismo tamaño porque para la red tienen que tener un formato estándar.\n",
        "        train_data_dir,\n",
        "        target_size=(150, 150),\n",
        "        batch_size=batch_size,\n",
        "        class_mode='categorical')\n",
        "\n",
        "validation_generator = test_datagen.flow_from_directory( #lo mismo que arriba\n",
        "        validation_data_dir,\n",
        "        target_size=(150, 150),\n",
        "        batch_size=32,\n",
        "        class_mode='categorical')\n",
        "\n",
        "# MODEL --------------------------------------------------\n",
        "\n",
        "#aqui el modelo se construye de manera funcional. Mirar esto (https://nbviewer.jupyter.org/url/cayetanoguerra.github.io/spegc/DeepLearning/Day2/04-Arquitecturas.ipynb)\n",
        "#las capas pasan de ser una estructura que va una detras de otra (Sequential) a ser una funcion con valores de entrada y salida que pueden seguir el orden que quieran\n",
        "\n",
        "#Parámetros en una red: los pesos (los parámetros de la red que la red pone por aprendizaje)\n",
        "#Hiperparámetros: parámetros de la red que no aprende, que los ponemos nosotros por experiencia y por reglas heurísticas de la IA.\n",
        "\n",
        "#Explicación del filtro: al entrar en la primera capa de la red convolutiva hay 32 kernel, el primer kernel tiene 148x148 (capa entrada creo). Luego formamos neuronas que forman el\n",
        "#primer filtro, cada una de 27 entradas (bloques de (3x3 pixeles)x3 canales rgb). La siguiente neurona coge un bloque que tiene los mismos pixeles salvo los 3 primero que sustituye por\n",
        "#los 3 siguientes. A la primera capa de filtros se aplican más filtros y asi sucesivamente. La sifuiente capa a filtrar será de 148x148x32 slices de profundidad (32 hiperparámetro).\n",
        "\n",
        "#Explicación MaxPooling: dividimos cada slice del output del filtro anterior en submatrices de 2x2. De cada submatriz sacamos un píxel con el valor más representativo que hay en ella. \n",
        "#Al final tenemos una capa de (74x74x32), reducimos la matriz a la mitad.\n",
        "\n",
        "#Ahora, despues del MaxPooling volvemos a aplicar otro filtro de 3x3 pero con x32 de profundidad (se va alargando el dataset de aplicarle filtros, empezamos \n",
        "#con profundidad de 3 por los canales rgb y ya estamos en profundidad de 32). Tenemos 64 en la salida de esta capa (el 64 es un hiperparámetro). El tensor de salida será\n",
        "#de 72x72x64 después de aplicar este filtro.\n",
        "\n",
        "#Despues de la aplicacion del segundo filtro, se vuelve a aplicar un Maxpooling, que vuelve a dividir entre dos el tamaño de las imágenes, quedando una capa de 36x36x64.\n",
        "\n",
        "#El Dropout lo dejamos de momento, no tiene efecto en el modelo\n",
        "\n",
        "#Flatten: las \"capas convolutivas\" están hechas para procesar datos en 2D pero las redes full connected solo soportan vectores. Esta funcion convierte lo anterior de 36x25x64 en un vector\n",
        "#lineal de 82944 elementos (linealizamos la matriz).\n",
        "\n",
        "#Despues del Flatten, encontramos una capa oculta de 128 neuronas (hiperparámetro), que tiene como entrada los 82944 elementos del vector (pesos=82944*128)\n",
        "\n",
        "#El Dropout se explica mas adelante\n",
        "\n",
        "#Lo ultimo es la capa de salida de la neurona, va con softmax para que la distribucion de probabilidad sume 1\n",
        "\n",
        "#Explicacion dropout: es una herramienta que hace que los outliers no te revienten mucho el modelo. Un Dropout del 50% implica que la mitad de las neuronas de un capa se congelen \n",
        "#en unos cuantos pasos de entrenamiento y se actualicen solo los pesos de las otras, despues de unos cuantos pasos se congelarán otras neuronas aleatoriamente durante unos cuantos pasos \n",
        "#(el 50% otra vez). Congelar significa que actuan pero sus pesos no se actualizan.\n",
        "\n",
        "model = Sequential() \n",
        "model.add(Conv2D(32, kernel_size=(3, 3), #32 filtros de 3x3 \n",
        "                 activation='relu',  #otra funcion de activacion distinta del sigmoide\n",
        "                 input_shape=(150, 150, 3))) #tamaño de imagen y rgb=3 para que la imagen sea a color\n",
        "model.add(MaxPooling2D(pool_size=(2, 2))) #MaxPooling descarta los datos que aportan poco\n",
        "model.add(Conv2D(64, (3, 3), activation='relu')) #otra capa sobre lo anterior\n",
        "model.add(MaxPooling2D(pool_size=(2, 2)))\n",
        "model.add(Dropout(0.25))\n",
        "model.add(Flatten())\n",
        "model.add(Dense(128, activation='relu'))\n",
        "model.add(Dropout(0.5))\n",
        "model.add(Dense(10, activation='softmax'))\n",
        "\n",
        "model.compile(loss=keras.losses.categorical_crossentropy, #funcion de loss (error) = categorical_crossentropy, una funcion de error como la de minimos cuadrados.\n",
        "              optimizer=keras.optimizers.Adadelta(),\n",
        "              metrics=['accuracy']) #accyraxy es lo que se acerca a la realidad el conjunto de validación.\n",
        "\n",
        "# TRAINING --------------------------------------------------\n",
        "\n",
        "#actualizacion de pesos\n",
        "\n",
        "#fit generator se usa porque el conjunto de imágenes se ha conseguido con un generador y se han generado más imágenes artificialmente, entonces usamos fit generator en vez de fit.\n",
        "#hay que hacer funcionar esto con estas imagenes y volver a hacer esto pero con un dataset de imágenes nuestro (podemos coger uno de cayetano en su pagina de Spegc). Hay que probar con \n",
        "#distintos hiperparámetros. Hay funciones que hacen que puedas poner un rango de hiperparametros, dejar esto ejecutando por la noche y por la mañana tienes una matriz de resultados.\n",
        "#tenemos que conseguir un modelo que clasifique relativamente bien el dataset que vayamos a usar. La entrega será el código con el mejor resultado de entrenamiento. Si ponemos gráficas\n",
        "#con comparaciones y demás, mejor. (he descargado el dataset de los barcos en el escritorio).\n",
        "\n",
        "epochs = 10  \n",
        "\n",
        "model.fit_generator(\n",
        "        train_generator,\n",
        "        steps_per_epoch=100, #pasos en cada entrenamiento\n",
        "        epochs=epochs, \n",
        "        validation_data=validation_generator,\n",
        "        validation_steps=800,\n",
        ")"
      ],
      "execution_count": 0,
      "outputs": []
    },
    {
      "cell_type": "markdown",
      "metadata": {
        "id": "rGhOb7VrQhJf",
        "colab_type": "text"
      },
      "source": [
        "#Parte que tenemos que hacer nosotros"
      ]
    },
    {
      "cell_type": "code",
      "metadata": {
        "colab_type": "code",
        "outputId": "bc2bc6e1-0758-49a2-9bdf-287e11dcfb5b",
        "id": "jm6qjepiwl2k",
        "colab": {
          "base_uri": "https://localhost:8080/",
          "height": 121
        }
      },
      "source": [
        "from google.colab import drive\n",
        "drive.mount('/content/gdrive')"
      ],
      "execution_count": 0,
      "outputs": [
        {
          "output_type": "stream",
          "text": [
            "Go to this URL in a browser: https://accounts.google.com/o/oauth2/auth?client_id=947318989803-6bn6qk8qdgf4n4g3pfee6491hc0brc4i.apps.googleusercontent.com&redirect_uri=urn%3Aietf%3Awg%3Aoauth%3A2.0%3Aoob&scope=email%20https%3A%2F%2Fwww.googleapis.com%2Fauth%2Fdocs.test%20https%3A%2F%2Fwww.googleapis.com%2Fauth%2Fdrive%20https%3A%2F%2Fwww.googleapis.com%2Fauth%2Fdrive.photos.readonly%20https%3A%2F%2Fwww.googleapis.com%2Fauth%2Fpeopleapi.readonly&response_type=code\n",
            "\n",
            "Enter your authorization code:\n",
            "··········\n",
            "Mounted at /content/gdrive\n"
          ],
          "name": "stdout"
        }
      ]
    },
    {
      "cell_type": "code",
      "metadata": {
        "colab_type": "code",
        "outputId": "a03fa46f-808e-4d2b-f5ab-089af84a5d92",
        "id": "RvWDHIPz0gZL",
        "colab": {
          "base_uri": "https://localhost:8080/",
          "height": 302
        }
      },
      "source": [
        "!ls \"/content/gdrive/My Drive/Colab (inteligencia artificial)\" #esto hace un ls en la carpeta que dice\n",
        "\n",
        "import matplotlib.pyplot\n",
        "from matplotlib.pyplot import imshow #matplotlib = libreria grafica de python\n",
        "import numpy as np\n",
        "from PIL import Image\n",
        "                      #el \"porcentaje\" implica que la imagen no se abrira en una ventana aparte si no como algo incrustable en el documento web.\n",
        "%matplotlib inline \n",
        "pil_im = Image.open('/content/gdrive/My Drive/Colab (inteligencia artificial)/dataset_LEGO/train/2357 Brick corner 1x2x2/201706171206-0001.png', 'r')\n",
        "imshow(np.asarray(pil_im))\n",
        "\n"
      ],
      "execution_count": 0,
      "outputs": [
        {
          "output_type": "stream",
          "text": [
            "dataset_LEGO  Iris_Mnist.ipynb\tRedConvolutiva.ipynb\n"
          ],
          "name": "stdout"
        },
        {
          "output_type": "execute_result",
          "data": {
            "text/plain": [
              "<matplotlib.image.AxesImage at 0x7f1532e99400>"
            ]
          },
          "metadata": {
            "tags": []
          },
          "execution_count": 3
        },
        {
          "output_type": "display_data",
          "data": {
            "image/png": "[encoded data removed]",
            "text/plain": [
              "<Figure size 432x288 with 1 Axes>"
            ]
          },
          "metadata": {
            "tags": []
          }
        }
      ]
    },
    {
      "cell_type": "markdown",
      "metadata": {
        "id": "SgsGbKQaCr5f",
        "colab_type": "text"
      },
      "source": [
        "#Guardamos unas cuantas imágenes en validacion porque todas están en train (ejecutar solo una vez, luego comentar el código)"
      ]
    },
    {
      "cell_type": "code",
      "metadata": {
        "id": "-Qy2mpPFC2Lj",
        "colab_type": "code",
        "colab": {}
      },
      "source": [
        "\"\"\"import os\n",
        "directory1 = '/content/gdrive/My Drive/Colab (inteligencia artificial)/dataset_LEGO/train/'\n",
        "directory2 = '/content/gdrive/My Drive/Colab (inteligencia artificial)/dataset_LEGO/valid/'\n",
        "count=8\n",
        "\n",
        "for directory3 in os.listdir(directory1):\n",
        "  for image in os.listdir(directory1+directory3):\n",
        "    count -= 1\n",
        "    if (count == 0):\n",
        "      count=8\n",
        "      os.rename(directory1+directory3+'/'+image, directory2+directory3+'/'+image)\"\"\"\n",
        "      "
      ],
      "execution_count": 0,
      "outputs": []
    },
    {
      "cell_type": "markdown",
      "metadata": {
        "id": "kC3xjDHRI9_s",
        "colab_type": "text"
      },
      "source": [
        "#Código para revertir lo anterior debajo de este texto por si hay fallos (comentar salvo necesidad de uso)"
      ]
    },
    {
      "cell_type": "code",
      "metadata": {
        "id": "h5UfU6VwLhnH",
        "colab_type": "code",
        "colab": {}
      },
      "source": [
        "\"\"\"import os\n",
        "directory1 = '/content/gdrive/My Drive/Colab (inteligencia artificial)/dataset_LEGO/train/'\n",
        "directory2 = '/content/gdrive/My Drive/Colab (inteligencia artificial)/dataset_LEGO/valid/'\n",
        "\n",
        "\n",
        "for directory3 in os.listdir(directory2):\n",
        "  subdirectory=directory2+directory3\n",
        "  for image in os.listdir(subdirectory):\n",
        "      print(image)\n",
        "      os.rename(subdirectory+'/'+image, directory1+directory3+'/'+image)\"\"\""
      ],
      "execution_count": 0,
      "outputs": []
    },
    {
      "cell_type": "code",
      "metadata": {
        "colab_type": "code",
        "outputId": "a7ba5ed1-0caf-481e-8491-14715f2535c5",
        "id": "ssfSTXlP0ky8",
        "colab": {
          "base_uri": "https://localhost:8080/",
          "height": 34
        }
      },
      "source": [
        "import tensorflow as tf\n",
        "tf.test.gpu_device_name()"
      ],
      "execution_count": 0,
      "outputs": [
        {
          "output_type": "execute_result",
          "data": {
            "text/plain": [
              "'/device:GPU:0'"
            ]
          },
          "metadata": {
            "tags": []
          },
          "execution_count": 4
        }
      ]
    },
    {
      "cell_type": "code",
      "metadata": {
        "colab_type": "code",
        "id": "GMTHGyq4z5Cw",
        "outputId": "5b10f274-f387-4941-c594-c32f899e9525",
        "colab": {
          "base_uri": "https://localhost:8080/",
          "height": 1131
        }
      },
      "source": [
        "from keras.preprocessing.image import ImageDataGenerator #fuente de datos\n",
        "from keras.models import Sequential #modelo\n",
        "from keras.layers import Dense, Dropout #entrenamiento\n",
        "from keras.optimizers import RMSprop\n",
        "from keras.layers import Dense, Dropout, Flatten\n",
        "from keras.layers import Conv2D, MaxPooling2D\n",
        "from keras import backend as K\n",
        "import keras\n",
        "from time import time\n",
        "\n",
        "\n",
        "# DATA SOURCE --------------------------------------------------\n",
        "\n",
        "batch_size = 20\n",
        "\n",
        "train_data_dir = '/content/gdrive/My Drive/Colab (inteligencia artificial)/dataset_LEGO/train' #definimos dos directorios, uno para training y otro para validación, aquí los dos directorios van al             \n",
        "validation_data_dir = '/content/gdrive/My Drive/Colab (inteligencia artificial)/dataset_LEGO/valid' \n",
        "\n",
        "#en inteligencia artificial cuanto más datos mejor, con imágenes no pasa lo contrario (ejemplo con imagen de un pájaro). Una forma de crear más imágenes artificialmente \n",
        "#para entrenar mejor es darle la vuelta a las imágenes horizontalmente, porque un pájaro mirando a la izquierda y un pájaro mirando a la derecha también es un pájaro, \n",
        "#hacer un pequeño zoom, porque un pájaro de cerca y de lejos también es un pájaro, rotar un poquito la imagen sobre el eje central o una combinación de todo esto.\n",
        "\n",
        "train_datagen = ImageDataGenerator( #este código hace lo del párrafo de arriba.\n",
        "        rescale=1./255, #esto solo es para convertir valores entre 0 y 1.\n",
        "        shear_range=0.2,\n",
        "        zoom_range=0.2,\n",
        "        horizontal_flip=True)\n",
        "\n",
        "test_datagen = ImageDataGenerator(rescale=1./255) #aqui solo convertimos valores entre 0 y 1.\n",
        "\n",
        "train_generator = train_datagen.flow_from_directory( #escala las imagenes todas al mismo tamaño porque para la red tienen que tener un formato estándar.\n",
        "        train_data_dir,\n",
        "        target_size=(150, 150),\n",
        "        batch_size=batch_size,\n",
        "        class_mode='categorical')\n",
        "\n",
        "validation_generator = test_datagen.flow_from_directory( #lo mismo que arriba\n",
        "        validation_data_dir,\n",
        "        target_size=(150, 150),\n",
        "        batch_size=32,\n",
        "        class_mode='categorical')\n",
        "\n",
        "# MODEL --------------------------------------------------\n",
        "\n",
        "#aqui el modelo se construye de manera funcional. Mirar esto (https://nbviewer.jupyter.org/url/cayetanoguerra.github.io/spegc/DeepLearning/Day2/04-Arquitecturas.ipynb)\n",
        "#las capas pasan de ser una estructura que va una detras de otra (Sequential) a ser una funcion con valores de entrada y salida que pueden seguir el orden que quieran\n",
        "\n",
        "#Parámetros en una red: los pesos (los parámetros de la red que la red pone por aprendizaje)\n",
        "#Hiperparámetros: parámetros de la red que no aprende, que los ponemos nosotros por experiencia y por reglas heurísticas de la IA.\n",
        "\n",
        "#Explicación del filtro: al entrar en la primera capa de la red convolutiva hay 32 kernel, el primer kernel tiene 148x148 (capa entrada creo). Luego formamos neuronas que forman el\n",
        "#primer filtro, cada una de 27 entradas (bloques de (3x3 pixeles)x3 canales rgb). La siguiente neurona coge un bloque que tiene los mismos pixeles salvo los 3 primero que sustituye por\n",
        "#los 3 siguientes. A la primera capa de filtros se aplican más filtros y asi sucesivamente. La sifuiente capa a filtrar será de 148x148x32 slices de profundidad (32 hiperparámetro).\n",
        "\n",
        "#Explicación MaxPooling: dividimos cada slice del output del filtro anterior en submatrices de 2x2. De cada submatriz sacamos un píxel con el valor más representativo que hay en ella. \n",
        "#Al final tenemos una capa de (74x74x32), reducimos la matriz a la mitad.\n",
        "\n",
        "#Ahora, despues del MaxPooling volvemos a aplicar otro filtro de 3x3 pero con x32 de profundidad (se va alargando el dataset de aplicarle filtros, empezamos \n",
        "#con profundidad de 3 por los canales rgb y ya estamos en profundidad de 32). Tenemos 64 en la salida de esta capa (el 64 es un hiperparámetro). El tensor de salida será\n",
        "#de 72x72x64 después de aplicar este filtro.\n",
        "\n",
        "#Despues de la aplicacion del segundo filtro, se vuelve a aplicar un Maxpooling, que vuelve a dividir entre dos el tamaño de las imágenes, quedando una capa de 36x36x64.\n",
        "\n",
        "#El Dropout lo dejamos de momento, no tiene efecto en el modelo\n",
        "\n",
        "#Flatten: las \"capas convolutivas\" están hechas para procesar datos en 2D pero las redes full connected solo soportan vectores. Esta funcion convierte lo anterior de 36x25x64 en un vector\n",
        "#lineal de 82944 elementos (linealizamos la matriz).\n",
        "\n",
        "#Despues del Flatten, encontramos una capa oculta de 128 neuronas (hiperparámetro), que tiene como entrada los 82944 elementos del vector (pesos=82944*128)\n",
        "\n",
        "#El Dropout se explica mas adelante\n",
        "\n",
        "#Lo ultimo es la capa de salida de la neurona, va con softmax para que la distribucion de probabilidad sume 1\n",
        "\n",
        "#Explicacion dropout: es una herramienta que hace que los outliers no te revienten mucho el modelo. Un Dropout del 50% implica que la mitad de las neuronas de un capa se congelen \n",
        "#en unos cuantos pasos de entrenamiento y se actualicen solo los pesos de las otras, despues de unos cuantos pasos se congelarán otras neuronas aleatoriamente durante unos cuantos pasos \n",
        "#(el 50% otra vez). Congelar significa que actuan pero sus pesos no se actualizan.\n",
        "\n",
        "model = Sequential() \n",
        "model.add(Conv2D(32, kernel_size=(3, 3), #32 filtros de 3x3 \n",
        "                 activation='relu',  #otra funcion de activacion distinta del sigmoide\n",
        "                 input_shape=(150, 150, 3))) #tamaño de imagen y rgb=3 para que la imagen sea a color\n",
        "model.add(MaxPooling2D(pool_size=(2, 2))) #MaxPooling descarta los datos que aportan poco\n",
        "model.add(Conv2D(64, (3, 3), activation='relu')) #otra capa sobre lo anterior\n",
        "model.add(MaxPooling2D(pool_size=(2, 2)))\n",
        "model.add(Dropout(0.25))\n",
        "model.add(Flatten())\n",
        "model.add(Dense(128, activation='relu'))\n",
        "model.add(Dropout(0.5))\n",
        "model.add(Dense(6, activation='softmax')) #16 outputs\n",
        "\n",
        "model.compile(loss=keras.losses.categorical_crossentropy, #funcion de loss (error) = categorical_crossentropy, una funcion de error como la de minimos cuadrados.\n",
        "              optimizer=keras.optimizers.Adadelta(),\n",
        "              metrics=['accuracy']) #accyraxy es lo que se acerca a la realidad el conjunto de validación.\n",
        "\n",
        "# TRAINING --------------------------------------------------\n",
        "\n",
        "#actualizacion de pesos\n",
        "\n",
        "#fit generator se usa porque el conjunto de imágenes se ha conseguido con un generador y se han generado más imágenes artificialmente, entonces usamos fit generator en vez de fit.\n",
        "#hay que hacer funcionar esto con estas imagenes y volver a hacer esto pero con un dataset de imágenes nuestro (podemos coger uno de cayetano en su pagina de Spegc). Hay que probar con \n",
        "#distintos hiperparámetros. Hay funciones que hacen que puedas poner un rango de hiperparametros, dejar esto ejecutando por la noche y por la mañana tienes una matriz de resultados.\n",
        "#tenemos que conseguir un modelo que clasifique relativamente bien el dataset que vayamos a usar. La entrega será el código con el mejor resultado de entrenamiento. Si ponemos gráficas\n",
        "#con comparaciones y demás, mejor. (he descargado el dataset de los barcos en el escritorio).\n",
        "\n",
        "epochs = 10  \n",
        "\n",
        "history = model.fit_generator(\n",
        "        train_generator,\n",
        "        steps_per_epoch=100, #pasos en cada entrenamiento\n",
        "        epochs=epochs, \n",
        "        validation_data=validation_generator,\n",
        "        validation_steps=800,\n",
        ")\n",
        "\n",
        "print(history.history.keys())\n",
        "\n",
        "matplotlib.pyplot.plot(history.history['acc'])\n",
        "matplotlib.pyplot.plot(history.history['val_acc'])\n",
        "matplotlib.pyplot.title('model accuracy')\n",
        "matplotlib.pyplot.ylabel('accuracy')\n",
        "matplotlib.pyplot.xlabel('epoch')\n",
        "matplotlib.pyplot.legend(['train', 'test'], loc='upper left')\n",
        "matplotlib.pyplot.show()\n",
        "\n",
        "matplotlib.pyplot.plot(history.history['loss'])\n",
        "matplotlib.pyplot.plot(history.history['val_loss'])\n",
        "matplotlib.pyplot.title('model loss')\n",
        "matplotlib.pyplot.ylabel('loss')\n",
        "matplotlib.pyplot.xlabel('epoch')\n",
        "matplotlib.pyplot.legend(['train', 'test'], loc='upper left')\n",
        "matplotlib.pyplot.show()"
      ],
      "execution_count": 0,
      "outputs": [
        {
          "output_type": "stream",
          "text": [
            "Found 1830 images belonging to 6 classes.\n",
            "Found 261 images belonging to 6 classes.\n",
            "WARNING:tensorflow:From /usr/local/lib/python3.6/dist-packages/tensorflow/python/framework/op_def_library.py:263: colocate_with (from tensorflow.python.framework.ops) is deprecated and will be removed in a future version.\n",
            "Instructions for updating:\n",
            "Colocations handled automatically by placer.\n",
            "WARNING:tensorflow:From /usr/local/lib/python3.6/dist-packages/keras/backend/tensorflow_backend.py:3445: calling dropout (from tensorflow.python.ops.nn_ops) with keep_prob is deprecated and will be removed in a future version.\n",
            "Instructions for updating:\n",
            "Please use `rate` instead of `keep_prob`. Rate should be set to `rate = 1 - keep_prob`.\n",
            "WARNING:tensorflow:From /usr/local/lib/python3.6/dist-packages/tensorflow/python/ops/math_ops.py:3066: to_int32 (from tensorflow.python.ops.math_ops) is deprecated and will be removed in a future version.\n",
            "Instructions for updating:\n",
            "Use tf.cast instead.\n",
            "Epoch 1/10\n",
            "100/100 [==============================] - 900s 9s/step - loss: 1.0319 - acc: 0.5780 - val_loss: 0.4016 - val_acc: 0.8314\n",
            "Epoch 2/10\n",
            "100/100 [==============================] - 71s 714ms/step - loss: 0.6654 - acc: 0.6960 - val_loss: 0.3550 - val_acc: 0.8736\n",
            "Epoch 3/10\n",
            "100/100 [==============================] - 70s 705ms/step - loss: 0.5506 - acc: 0.7330 - val_loss: 0.2957 - val_acc: 0.8696\n",
            "Epoch 4/10\n",
            "100/100 [==============================] - 68s 678ms/step - loss: 0.5206 - acc: 0.7465 - val_loss: 0.2950 - val_acc: 0.8622\n",
            "Epoch 5/10\n",
            "100/100 [==============================] - 69s 693ms/step - loss: 0.4819 - acc: 0.7830 - val_loss: 0.3063 - val_acc: 0.8427\n",
            "Epoch 6/10\n",
            "100/100 [==============================] - 71s 714ms/step - loss: 0.4476 - acc: 0.8010 - val_loss: 0.2345 - val_acc: 0.8733\n",
            "Epoch 7/10\n",
            "100/100 [==============================] - 70s 699ms/step - loss: 0.4136 - acc: 0.8250 - val_loss: 0.2568 - val_acc: 0.8852\n",
            "Epoch 8/10\n",
            "100/100 [==============================] - 69s 692ms/step - loss: 0.3914 - acc: 0.8210 - val_loss: 0.2114 - val_acc: 0.9043\n",
            "Epoch 9/10\n",
            "100/100 [==============================] - 69s 688ms/step - loss: 0.3992 - acc: 0.8255 - val_loss: 0.1959 - val_acc: 0.9119\n",
            "Epoch 10/10\n",
            "100/100 [==============================] - 69s 688ms/step - loss: 0.3932 - acc: 0.8320 - val_loss: 0.2156 - val_acc: 0.8889\n",
            "dict_keys(['val_loss', 'val_acc', 'loss', 'acc'])\n"
          ],
          "name": "stdout"
        },
        {
          "output_type": "display_data",
          "data": {
            "image/png": "[encoded data removed]",
            "text/plain": [
              "<Figure size 432x288 with 1 Axes>"
            ]
          },
          "metadata": {
            "tags": []
          }
        },
        {
          "output_type": "display_data",
          "data": {
            "image/png": "[encoded data removed]",
            "text/plain": [
              "<Figure size 432x288 with 1 Axes>"
            ]
          },
          "metadata": {
            "tags": []
          }
        }
      ]
    }
  ]
}